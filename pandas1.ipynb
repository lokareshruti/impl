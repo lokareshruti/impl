{
 "cells": [
  {
   "cell_type": "markdown",
   "id": "04243e04-d7bf-4350-bb1c-dced8cadb92b",
   "metadata": {},
   "source": [
    "# pandas"
   ]
  },
  {
   "cell_type": "code",
   "execution_count": 2,
   "id": "79ad66f9-6b3a-4342-af78-1e94c2ba050c",
   "metadata": {},
   "outputs": [],
   "source": [
    "#import pandas\n",
    "\n",
    "import pandas as pd\n"
   ]
  },
  {
   "cell_type": "code",
   "execution_count": 4,
   "id": "9f538750-6d00-4da9-a03d-f8482ea890e2",
   "metadata": {},
   "outputs": [
    {
     "name": "stdout",
     "output_type": "stream",
     "text": [
      "2.2.2\n"
     ]
    }
   ],
   "source": [
    "print(pd.__version__)"
   ]
  },
  {
   "cell_type": "code",
   "execution_count": 4,
   "id": "8df2801d-7de4-4f06-b2de-c0558a7bbe0b",
   "metadata": {},
   "outputs": [
    {
     "name": "stdout",
     "output_type": "stream",
     "text": [
      "0    1\n",
      "1    2\n",
      "2    3\n",
      "3    4\n",
      "4    5\n",
      "5    6\n",
      "6    7\n",
      "dtype: int64\n"
     ]
    }
   ],
   "source": [
    "\n",
    "a=[1,2,3,4,5,6,7]\n",
    "myvar=pd.Series(a)\n",
    "print(myvar)"
   ]
  },
  {
   "cell_type": "code",
   "execution_count": 15,
   "id": "c6a8d161-78cc-4009-8411-5a339b72c2b0",
   "metadata": {},
   "outputs": [
    {
     "name": "stdout",
     "output_type": "stream",
     "text": [
      "     name  age  Score  Duration\n",
      "0  shruti   19     78        60\n",
      "1   aditi   20     80        43\n",
      "2  ayesha   15     76        60\n",
      "3    arya   21     90        73\n",
      "4  kranti   17     88        70\n"
     ]
    }
   ],
   "source": [
    "#DataFrame in pandas\n",
    "import pandas as pd\n",
    "\n",
    "data = {\n",
    "      'name' :[\"shruti\",\"aditi\",\"ayesha\",\"arya\",\"kranti\"],\n",
    "       'age' :[19,20,15,21,17],\n",
    "       'Score' :[78,80,76,90,88],\n",
    "      'Duration' :[60,43,60,73,70]\n",
    "    \n",
    "    \n",
    "}\n",
    "df=pd.DataFrame(data)\n",
    "print(df)"
   ]
  },
  {
   "cell_type": "code",
   "execution_count": 7,
   "id": "22d4ba9b-5a8d-4a27-8f77-b8b693bc89db",
   "metadata": {},
   "outputs": [
    {
     "ename": "NameError",
     "evalue": "name 'df' is not defined",
     "output_type": "error",
     "traceback": [
      "\u001b[1;31m---------------------------------------------------------------------------\u001b[0m",
      "\u001b[1;31mNameError\u001b[0m                                 Traceback (most recent call last)",
      "Cell \u001b[1;32mIn[7], line 2\u001b[0m\n\u001b[0;32m      1\u001b[0m \u001b[38;5;66;03m#locating data\u001b[39;00m\n\u001b[1;32m----> 2\u001b[0m df\u001b[38;5;241m.\u001b[39mloc[\u001b[38;5;241m1\u001b[39m]\n",
      "\u001b[1;31mNameError\u001b[0m: name 'df' is not defined"
     ]
    }
   ],
   "source": [
    "#locating data\n",
    "df.loc[1]"
   ]
  },
  {
   "cell_type": "code",
   "execution_count": 17,
   "id": "3da51dd6-ed42-4b76-8acb-562fb00d5137",
   "metadata": {},
   "outputs": [
    {
     "name": "stdout",
     "output_type": "stream",
     "text": [
      "  C:\\Users\\USER\\AppData\\Local\\Programs\\Microsoft VS Code\\resources\\app\\node_modules.asar.unpacked\\@vscode\\vsce-sign\\bin\\vsce-sign.exe\n",
      "0  C:\\Program Files (x86)\\Adobe\\Acrobat Reader DC...                                                                                 \n",
      "1  C:\\Users\\USER\\AppData\\Local\\Programs\\Microsoft...                                                                                 \n",
      "2  C:\\PROGRAM FILES (X86)\\ADOBE\\ACROBAT READER DC...                                                                                 \n"
     ]
    }
   ],
   "source": [
    "#import dataset\n",
    "\n",
    "ds = pd.read_csv(\"F_EditInf.csv\")\n",
    "print(ds)"
   ]
  },
  {
   "cell_type": "code",
   "execution_count": 17,
   "id": "bbd30c2c-13e6-415d-87ee-10a0a427520b",
   "metadata": {},
   "outputs": [
    {
     "name": "stdout",
     "output_type": "stream",
     "text": [
      "    Unnamed: 0 Unnamed: 1                                         Unnamed: 2  \\\n",
      "0          NaN        NaN                                                NaN   \n",
      "1          NaN        NaN                                                NaN   \n",
      "2          NaN        NaN                                                NaN   \n",
      "3          NaN        NaN                                                NaN   \n",
      "4          NaN        NaN                                                NaN   \n",
      "..         ...        ...                                                ...   \n",
      "68         NaN        NaN  a) Amount of oxygen        b) Amount of hydrog...   \n",
      "69         NaN         29  The dominant second tropic level in a lake eco...   \n",
      "70         NaN        NaN  a) Phytoplankton             b) Zooplankton   ...   \n",
      "71         NaN         30        What is the main source of vehicular noise?   \n",
      "72         NaN        NaN   a) High speed                     b) Movement...   \n",
      "\n",
      "   Unnamed: 3 Unnamed: 4 Unnamed: 5 Unnamed: 6  \n",
      "0         NaN        NaN        NaN        NaN  \n",
      "1         NaN        NaN        NaN        NaN  \n",
      "2         NaN        NaN        NaN        NaN  \n",
      "3         NaN        NaN        NaN        NaN  \n",
      "4         NaN        NaN        NaN        NaN  \n",
      "..        ...        ...        ...        ...  \n",
      "68        NaN        NaN        NaN        NaN  \n",
      "69          1        NaN          1          B  \n",
      "70        NaN        NaN        NaN        NaN  \n",
      "71          1        NaN          1          B  \n",
      "72        NaN        NaN        NaN        NaN  \n",
      "\n",
      "[73 rows x 7 columns]\n"
     ]
    }
   ],
   "source": [
    "ds = pd.read_excel(\"CT-Questions.xlsx\")\n",
    "print(ds)"
   ]
  },
  {
   "cell_type": "code",
   "execution_count": 20,
   "id": "76452ec5-82aa-4466-8c2c-ff76f9e3b7cb",
   "metadata": {},
   "outputs": [
    {
     "name": "stdout",
     "output_type": "stream",
     "text": [
      "     name  age  Score  Duration\n",
      "0  shruti   19     78        60\n",
      "1   aditi   20     80        43\n",
      "2  ayesha   15     76        60\n",
      "3    arya   21     90        73\n",
      "4  kranti   17     88        70\n"
     ]
    }
   ],
   "source": [
    "#Anlyes dataset\n",
    "\n",
    "#Acess top datavalues \n",
    "\n",
    "print(df.head())"
   ]
  },
  {
   "cell_type": "code",
   "execution_count": 19,
   "id": "614cba77-deb8-4e63-aca5-359e326010da",
   "metadata": {},
   "outputs": [
    {
     "name": "stdout",
     "output_type": "stream",
     "text": [
      "     name  age  Score  Duration\n",
      "0  shruti   19     78        60\n",
      "1   aditi   20     80        43\n",
      "2  ayesha   15     76        60\n"
     ]
    }
   ],
   "source": [
    "print(df.head(3))"
   ]
  },
  {
   "cell_type": "code",
   "execution_count": 18,
   "id": "ce1090b0-40ce-4e9e-81e4-b9c421110d69",
   "metadata": {},
   "outputs": [
    {
     "name": "stdout",
     "output_type": "stream",
     "text": [
      "             age      Score   Duration\n",
      "count   5.000000   5.000000   5.000000\n",
      "mean   18.400000  82.400000  61.200000\n",
      "std     2.408319   6.228965  11.734564\n",
      "min    15.000000  76.000000  43.000000\n",
      "25%    17.000000  78.000000  60.000000\n",
      "50%    19.000000  80.000000  60.000000\n",
      "75%    20.000000  88.000000  70.000000\n",
      "max    21.000000  90.000000  73.000000\n"
     ]
    }
   ],
   "source": [
    "#desribe dataset\n",
    "print(df.describe())"
   ]
  },
  {
   "cell_type": "code",
   "execution_count": 21,
   "id": "2f9cc196-ba59-4530-8a4a-c9e3195aac1f",
   "metadata": {},
   "outputs": [
    {
     "data": {
      "text/plain": [
       "array([60, 43, 73, 70], dtype=int64)"
      ]
     },
     "execution_count": 21,
     "metadata": {},
     "output_type": "execute_result"
    }
   ],
   "source": [
    "#returing unique values\n",
    "\n",
    "df[\"Duration\"].unique()"
   ]
  },
  {
   "cell_type": "code",
   "execution_count": 22,
   "id": "f0a5b555-9a17-45b1-8b99-4ee757e2fae2",
   "metadata": {},
   "outputs": [
    {
     "data": {
      "text/plain": [
       "<bound method Series.unique of 0    19\n",
       "1    20\n",
       "2    15\n",
       "3    21\n",
       "4    17\n",
       "Name: age, dtype: int64>"
      ]
     },
     "execution_count": 22,
     "metadata": {},
     "output_type": "execute_result"
    }
   ],
   "source": [
    "df[\"age\"].unique"
   ]
  },
  {
   "cell_type": "code",
   "execution_count": 24,
   "id": "97f7d495-4f68-409f-8fd2-772808904a64",
   "metadata": {},
   "outputs": [
    {
     "data": {
      "text/plain": [
       "<bound method Series.unique of 0    78\n",
       "1    80\n",
       "2    76\n",
       "3    90\n",
       "4    88\n",
       "Name: Score, dtype: int64>"
      ]
     },
     "execution_count": 24,
     "metadata": {},
     "output_type": "execute_result"
    }
   ],
   "source": [
    "df[\"Score\"].unique"
   ]
  },
  {
   "cell_type": "code",
   "execution_count": null,
   "id": "1d3da17c-ce77-42d0-b45a-158ca9bafc25",
   "metadata": {},
   "outputs": [],
   "source": []
  }
 ],
 "metadata": {
  "kernelspec": {
   "display_name": "Python 3 (ipykernel)",
   "language": "python",
   "name": "python3"
  },
  "language_info": {
   "codemirror_mode": {
    "name": "ipython",
    "version": 3
   },
   "file_extension": ".py",
   "mimetype": "text/x-python",
   "name": "python",
   "nbconvert_exporter": "python",
   "pygments_lexer": "ipython3",
   "version": "3.12.7"
  }
 },
 "nbformat": 4,
 "nbformat_minor": 5
}
